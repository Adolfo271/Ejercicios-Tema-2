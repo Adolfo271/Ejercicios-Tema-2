{
 "cells": [
  {
   "cell_type": "markdown",
   "id": "5775b00c-5b5d-4592-a6fe-f72723073e8d",
   "metadata": {},
   "source": [
    "# Ejercicios "
   ]
  },
  {
   "cell_type": "markdown",
   "id": "2d2bcae2-1a06-4951-aa1f-0a73cfa743c3",
   "metadata": {},
   "source": [
    "- **Alumno: Adolfo martinez Acosta**\n",
    "- **Matricula: 22011221**\n",
    "- **Grupo: 4-A**"
   ]
  },
  {
   "cell_type": "code",
   "execution_count": 3,
   "id": "ef287028-3571-43ec-ba73-4cca954e2865",
   "metadata": {},
   "outputs": [],
   "source": [
    "import math"
   ]
  },
  {
   "cell_type": "markdown",
   "id": "e117c0e4-a1bf-46b7-a6f8-c36e9c8260bb",
   "metadata": {},
   "source": [
    "#### 8. Sólo para practicar. Se tienen los números 0, 3, 4, 6, 7 y 9. Si no se permiten repeticiones:"
   ]
  },
  {
   "cell_type": "markdown",
   "id": "dc08c66a-d12b-4d60-a1cf-459c8c0885ad",
   "metadata": {},
   "source": [
    "- a) ¿Cuántos números de tres dígitos se pueden formar?"
   ]
  },
  {
   "cell_type": "markdown",
   "id": "75c408f0-3f6c-4ae6-9fb5-344feb4db908",
   "metadata": {},
   "source": [
    "Dado que tenemos 6 numeros y se deben formar numeros de 3 digitos aplicamos formula de permutaciones: \n",
    "$$\n",
    "\\begin{align}\n",
    "     _nP_r &= \\dfrac{n!}{(n - r)!}\\\\\\\n",
    "     _6P_3 &= \\dfrac{6!}{(6 - 3)!}\\\\\\\n",
    "     _6P_3 &= \\dfrac{6!}{3!} = \\dfrac{720}{6}\\\\\\\n",
    "     _6P_3 &= 120\n",
    "\\end{align}\n",
    "$$\n",
    "\n",
    "por lo tanto se pueden formar **120** numeros de tres digitos."
   ]
  },
  {
   "cell_type": "code",
   "execution_count": 5,
   "id": "52212f1a-a6b6-4378-91b5-c8d94e260fdd",
   "metadata": {},
   "outputs": [
    {
     "name": "stdout",
     "output_type": "stream",
     "text": [
      "Hay 120 numeros de tres digitos usando: 0, 3, 4, 6, 7 y 9\n"
     ]
    }
   ],
   "source": [
    "#Implementacion de la solucion del inciso a) del ejercicio 8\n",
    "\n",
    "n, r = 6, 3\n",
    "numbers_of_3_digits = math.perm(n, r)\n",
    "print(f\"Hay {numbers_of_3_digits} numeros de tres digitos usando: 0, 3, 4, 6, 7 y 9\")"
   ]
  },
  {
   "cell_type": "markdown",
   "id": "33b2d360-9075-4c01-af30-57f9fb41942e",
   "metadata": {},
   "source": [
    "- b) ¿Cuántos de éstos son menores que 400?"
   ]
  },
  {
   "cell_type": "markdown",
   "id": "900b1d2c-0587-4dee-af0f-e4324382caf9",
   "metadata": {},
   "source": [
    "Los numeros proporcionados son: 0, 3, 4, 6, 7 y 9 por lo tanto todos aquellos numeros que comiencen con 0 o 3 son menores que 400, de esta forma los patrones de estos numeros son los siguientes: \n",
    "- **Patron 1**: 0 _ _  PARA ESTE CASO TENEMOS 2 ESPACIOS, EN EL PRIMERO TENEMOS 5 OPCIONES I.E 0, 3, 4, 6, 7 y 9 Y PARA EL SEGUNDO 4, POR QUE UTILIZANDO PERMUTACIONES PODEMOS PROCEDER COMO\n",
    "\n",
    "$$\n",
    "\\begin{align}\n",
    "     5 \\ cdot 4 = 20\n",
    "\\end{align}\n",
    "$$\n",
    "- **Patron 2**: 3 _ _, EN ESTE CASO RESOLVEMOS USANDO LA MISMA LOGICA ANTERIOR POR LO QUE TENEMOS\n",
    "\n",
    "$$\n",
    "\\begin{align}\n",
    "     5 \\ cdot 4 = 20\n",
    "\\end{align}\n",
    "$$\n",
    "\n",
    "Ahora solo sumamos los patrones para un total de **40 numeros de 3 digitos menores a 400**. "
   ]
  },
  {
   "cell_type": "code",
   "execution_count": 7,
   "id": "d45c9ed4-13f3-443a-8aef-1075e84d913c",
   "metadata": {},
   "outputs": [
    {
     "name": "stdout",
     "output_type": "stream",
     "text": [
      "Hay 40 numeros de tres digitos menores que 400\n"
     ]
    }
   ],
   "source": [
    "#Implementacion de la solucion del inciso b) del ejercicio 8\n",
    "\n",
    "print(f\"Hay {2*20} numeros de tres digitos menores que 400\")"
   ]
  },
  {
   "cell_type": "markdown",
   "id": "d702494b-fb47-4d45-a92b-2606a220de09",
   "metadata": {},
   "source": [
    "- c) ¿Cuántos son pares?"
   ]
  },
  {
   "cell_type": "markdown",
   "id": "b16f7355-1c73-4350-9797-708609eedc32",
   "metadata": {},
   "source": [
    "Los numeros proporcionados son: 0, 3, 4, 6, 7 y 9 por lo tanto todos\n",
    "aquellos numeros que terminen con 0, 4 y 6 son pares. Del inciso anterior\n",
    "nos podemos dar cuenta que para cada digito hay 20 permutaciones; es decir \n",
    "si se toma cualquiero de los 6 numeros el patron siempre es el mismo \n",
    "**X _ _**, donde X es cualquiera de estos 6 numeros. \n",
    "\n",
    "De esta observacion se puede concluir que el total de numeros pares es:\n",
    "$3 \\cdot 20 = 60$. **Hay 60 numeros pares de 3 digitos**."
   ]
  },
  {
   "cell_type": "code",
   "execution_count": 8,
   "id": "a86a0142-7632-4a52-afd2-2a05253b9b42",
   "metadata": {},
   "outputs": [
    {
     "name": "stdout",
     "output_type": "stream",
     "text": [
      "Hay 60 numeros pares de tres digitos\n"
     ]
    }
   ],
   "source": [
    "#Implementacion de la solucion del inciso c) del ejercicio 8\n",
    "\n",
    "print(f\"Hay {3*20} numeros pares de tres digitos\")"
   ]
  },
  {
   "cell_type": "markdown",
   "id": "71ebdbe2-1dcd-45bf-9ce6-f598c90e1aba",
   "metadata": {},
   "source": [
    "- d) ¿Cuántos son impares?"
   ]
  },
  {
   "cell_type": "markdown",
   "id": "fa7feb07-4a8e-4726-8f4f-8e9dd0728842",
   "metadata": {},
   "source": [
    "Los numeros proporcionados son: 0, 3, 4, 6, 7 y 9 por lo tanto todos\n",
    "aquellos numeros que terminen con 3, 7 y 9 son impares. Aplicando el mismo \n",
    "razonamiento del inciso anterior tenemos $3 \\cdot 20 = 60$. \n",
    "**Hay 60 numeros impares de 3 digitos**."
   ]
  },
  {
   "cell_type": "code",
   "execution_count": 9,
   "id": "ae546f66-3044-4fd4-a0fa-c1cf0e85b7b9",
   "metadata": {},
   "outputs": [
    {
     "name": "stdout",
     "output_type": "stream",
     "text": [
      "Hay 40 numeros impares de tres digitos \n"
     ]
    }
   ],
   "source": [
    "#Implementacion de la solucion del inciso d) del ejercicio 8\n",
    "\n",
    "print(f\"Hay {2*20} numeros impares de tres digitos \")"
   ]
  },
  {
   "cell_type": "markdown",
   "id": "e59067b6-bca7-4239-9bd5-114efda573c3",
   "metadata": {},
   "source": [
    "- e) ¿Cuántos son múltiplos de 5?"
   ]
  },
  {
   "cell_type": "markdown",
   "id": "5ef0654e-5df8-4f1d-a5b4-648d33a740ee",
   "metadata": {},
   "source": [
    "Los numeros proporcionados son: 0, 3, 4, 6, 7 y 9 por lo tanto todos\n",
    "aquellos numeros que terminen en 0 son multiplos de 5. Emplenado el analisis\n",
    "del inciso **c) i.e. (X _ _)** tenemos:\n",
    "$1 \\cdot 20 = 20$. \n",
    "**Hay 20 numeros multiplos de 5  de 3 digitos**."
   ]
  },
  {
   "cell_type": "code",
   "execution_count": 10,
   "id": "e1c98ce9-8a39-43d2-a89f-384346f275c3",
   "metadata": {},
   "outputs": [
    {
     "name": "stdout",
     "output_type": "stream",
     "text": [
      "Hay 20 numeros multiplos de 5 de 3 digitos \n"
     ]
    }
   ],
   "source": [
    "#Implementacion de la solucion del inciso d) del ejercicio 8\n",
    "\n",
    "print(f\"Hay {20} numeros multiplos de 5 de 3 digitos \")"
   ]
  },
  {
   "cell_type": "markdown",
   "id": "582fc2de-0284-4da2-8d08-7f325288b6e5",
   "metadata": {},
   "source": [
    "#### 9. Sólo para practicar. Los números telefónicos en la ciudad de Cuernavaca, Morelos, constan de siete dígitos."
   ]
  },
  {
   "cell_type": "markdown",
   "id": "54eeb5cc-ef9f-42cb-9570-f166978f2468",
   "metadata": {},
   "source": [
    "- a) ¿Cuántas líneas telefónicas pueden crearse en esa ciudad? Recuerda que no pueden comenzar con cero."
   ]
  },
  {
   "cell_type": "markdown",
   "id": "910b312e-7899-411b-b6c5-8f9d70318fc6",
   "metadata": {},
   "source": [
    "Como el primer digito no puede ser 0 se puede ocupar del 1 al 9 y para los otros 6 digitos si se puede ocupar del 0 al 9\n",
    "\n",
    "$9 \\cdot 10^6 = 9,000,000$"
   ]
  },
  {
   "cell_type": "code",
   "execution_count": 15,
   "id": "a2bf3a43-0174-4f52-8052-778f1e773b19",
   "metadata": {},
   "outputs": [
    {
     "name": "stdout",
     "output_type": "stream",
     "text": [
      "Se pueden crear 9000000 lineas telefonicas en Cuernavaca\n"
     ]
    }
   ],
   "source": [
    "#Implementacion de la solucion del inciso a) del ejercicio 9\n",
    "\n",
    "Lineas = 9 * 10**6 \n",
    "print(f\"Se pueden crear {Lineas} lineas telefonicas en Cuernavaca\")"
   ]
  },
  {
   "cell_type": "markdown",
   "id": "7b490475-7f18-417e-bf53-f731fce34433",
   "metadata": {},
   "source": [
    "- b) Si los tres primeros dígitos representan una zona de Cuernavaca, ¿cuántas líneas telefónicas\n",
    "pertenecen a la zona 326?"
   ]
  },
  {
   "cell_type": "markdown",
   "id": "9e59a974-7341-48b8-b336-453ce95741bf",
   "metadata": {},
   "source": [
    "Los primeros 3 digitos son 326 y los 4 digitos faltantes pueden ser entre el 0 y 9 entonces ocupamos la formula de permutaciones para saber el numero de convinaciones posibles con los 4 digitos.\n",
    "$$\n",
    "\\begin{align}\n",
    "     _nP_r &= \\dfrac{n!}{(n - r)!}\\\\\\\n",
    "     _7P_4 &= \\dfrac{7!}{(7 - 4)!}\\\\\\\n",
    "     _7P_4 &= \\dfrac{7!}{3!} = \\dfrac{5040}{6}\\\\\\\n",
    "     _7P_4 &= 840\n",
    "\\end{align}\n",
    "$$"
   ]
  },
  {
   "cell_type": "code",
   "execution_count": 20,
   "id": "fa9c1cb8-a46e-47ad-b094-0a8c6a2ee4e7",
   "metadata": {},
   "outputs": [
    {
     "name": "stdout",
     "output_type": "stream",
     "text": [
      "Hay 840 lineas telefonicas que pertenecen a la zona 326\n"
     ]
    }
   ],
   "source": [
    "#Implementacion de la solucion del inciso b) del ejercicio 9\n",
    "\n",
    "n, r = 7, 4\n",
    "numbers_of_3_digits = math.perm(n, r)\n",
    "print(f\"Hay {numbers_of_3_digits} lineas telefonicas que pertenecen a la zona 326\")"
   ]
  },
  {
   "cell_type": "markdown",
   "id": "013ebb42-b8f5-422c-b800-cbfb4332dc45",
   "metadata": {},
   "source": [
    "#### 10. Sólo para practicar. Se tiene la palabra MURCIÉLAGO. Si no se permiten repeticiones al usar las letras que la forman, determina:"
   ]
  },
  {
   "cell_type": "markdown",
   "id": "7bcdf304-f85a-4fbe-b046-3020472543ae",
   "metadata": {},
   "source": [
    "- a) El número de palabras que puedes crear."
   ]
  },
  {
   "cell_type": "markdown",
   "id": "646ab088-90b2-4428-9f6c-3845ec600e0d",
   "metadata": {},
   "source": [
    "Se utiliza el factorial para calucular el numero de palabras\n",
    "$$\n",
    "\\begin{align}\n",
    "     {n!}\\\\\\\n",
    "     10! = 10 * 9 * 8 * 7 * 6 * 5 * 4 * 3 * 2 * 1 \\\\\\\n",
    "     10! = 3,628,800\n",
    "\\end{align}\n",
    "$$"
   ]
  },
  {
   "cell_type": "code",
   "execution_count": 1,
   "id": "2686092f",
   "metadata": {},
   "outputs": [
    {
     "name": "stdout",
     "output_type": "stream",
     "text": [
      "Factorial de 10: 3628800\n"
     ]
    }
   ],
   "source": [
    "#Implementacion de la solucion del inciso a) del ejercicio 10\n",
    "# Definimos una función para calcular el factorial\n",
    "def factorial(n):\n",
    "    if n == 0 or n == 1:\n",
    "        return 1\n",
    "    else:\n",
    "        return n * factorial(n - 1)\n",
    "\n",
    "# Calculamos el factorial de 10\n",
    "factorial_10 = factorial(10)\n",
    "print(\"Factorial de 10:\", factorial_10)"
   ]
  },
  {
   "cell_type": "markdown",
   "id": "2a604b43",
   "metadata": {},
   "source": [
    "- b) El número de palabras con cinco letras."
   ]
  },
  {
   "cell_type": "markdown",
   "id": "60cb32db",
   "metadata": {},
   "source": [
    "Como no se pueden repetir letras de las 10 letras se toman 5 y se hace la formula de combinaciones\n",
    "$$\n",
    "\\begin{align}\n",
    "     _nC_r &= \\dfrac{n!}{(n - r)!r!}\\\\\\\n",
    "     _10C_5 &= \\dfrac{10!}{(10 - 5)!5!}\\\\\\\n",
    "     _10C_5 &= \\dfrac{10!}{5!*5!} = \\dfrac{3628800}{120 * 120}\\\\\\\n",
    "     _10C_5 &= 252\n",
    "\\end{align}\n",
    "$$"
   ]
  },
  {
   "cell_type": "code",
   "execution_count": 4,
   "id": "638e61ee",
   "metadata": {},
   "outputs": [
    {
     "name": "stdout",
     "output_type": "stream",
     "text": [
      "El número de palabras con 5 letras que se pueden formar es: 252\n"
     ]
    }
   ],
   "source": [
    "#Implementacion de la solucion del inciso b) del ejercicio 10\n",
    "\n",
    "n_total, k_letters = 10, 5  \n",
    "number_of_combinations = math.factorial(n_total) // (math.factorial(k_letters) * math.factorial(n_total - k_letters))\n",
    "\n",
    "print(f\"El número de palabras con {k_letters} letras que se pueden formar es: {number_of_combinations}\")\n"
   ]
  },
  {
   "cell_type": "markdown",
   "id": "415ee003",
   "metadata": {},
   "source": [
    "- c) La probabilidad de que una palabra de cinco letras termine en vocal."
   ]
  },
  {
   "cell_type": "markdown",
   "id": "0bb1fcbc",
   "metadata": {},
   "source": [
    "Utilizaremos la siguiente formula:\n",
    "$$\n",
    "\\begin{align}\n",
    "     P(terminar en vocal) &= \\dfrac{Numero de palabras de 5 letras que terminan en vocal}{Numero de palabras de 5 letras}\\\\\\\n",
    "     \n",
    "\\end{align}\n",
    "$$\n",
    "\n",
    "Ya calculamos que hay 252 palabras de 5 letras posibles \n",
    "\n",
    "Número de maneras de elegir la vocal final: (5/1) = 5\n",
    "\n",
    "Número de maneras de elegir las otras 4 letras: (9/4) = 126\n",
    "\n",
    "El número total de palabras de 5 letras que terminan en vocal es \n",
    "5×126=630.\n",
    "\n",
    "$$\n",
    "\\begin{align}\n",
    "     P(terminar en vocal) &= \\dfrac{630}{252} &= \\dfrac{5}{2} &= 2.5\\\\\\\n",
    "     \n",
    "\\end{align}\n",
    "$$"
   ]
  },
  {
   "cell_type": "code",
   "execution_count": 5,
   "id": "cf87dbcf",
   "metadata": {},
   "outputs": [
    {
     "name": "stdout",
     "output_type": "stream",
     "text": [
      "Probabilidad de que una palabra de 5 letras termine en vocal: 0.0992063492063492\n"
     ]
    }
   ],
   "source": [
    "#Implementacion de la solucion del inciso c) del ejercicio 10\n",
    "\n",
    "total_letras, letras_vocales = 10, 5\n",
    " \n",
    "letras_consonantes = total_letras - letras_vocales  \n",
    "palabras_terminan_vocal = letras_vocales * math.comb(letras_consonantes, 4)\n",
    "total_palabras = math.comb(total_letras, 5)\n",
    "probabilidad_vocal = palabras_terminan_vocal / total_palabras\n",
    "\n",
    "print(f\"Probabilidad de que una palabra de 5 letras termine en vocal: {probabilidad_vocal}\")\n"
   ]
  },
  {
   "cell_type": "markdown",
   "id": "e29af17e",
   "metadata": {},
   "source": [
    "#### 11. Parque vehicular. La Ciudad de México tiene placas de automóviles con tres números seguidos por tres letras, es decir, son placas del tipo 999-AAA. Sin embargo, no pueden empezar con 0 (cero) ni se utilizan las letras I, O, Q y Ñ."
   ]
  },
  {
   "cell_type": "markdown",
   "id": "582112eb",
   "metadata": {},
   "source": [
    "- a) ¿Cuántas placas diferentes son posibles?"
   ]
  },
  {
   "cell_type": "markdown",
   "id": "105e3081",
   "metadata": {},
   "source": [
    "Como no se puede ocupar 0 para el primer digito, entonces se ocuparia del 1 al 9 y para los otros dos digitos se puede ocupar del 0 al 9 \n",
    "\n",
    "**9 * 10 * 10 = 900**\n",
    "\n",
    "y para las letras se pueden ocupar 23 letras diferentes para los 3 digitos \n",
    "\n",
    "**23 * 23 * 23 = 12167**\n",
    "\n",
    "Entonces para hacer la combinacion multiplicamos los resultados:\n",
    "\n",
    "**900 * 12167 = 10950300**"
   ]
  },
  {
   "cell_type": "markdown",
   "id": "2117d799",
   "metadata": {},
   "source": []
  },
  {
   "cell_type": "code",
   "execution_count": 8,
   "id": "2fb5afe3",
   "metadata": {},
   "outputs": [
    {
     "name": "stdout",
     "output_type": "stream",
     "text": [
      "El numero de placas diferentes son:  10950300\n"
     ]
    }
   ],
   "source": [
    "#Implementacion de la solucion del inciso a) del ejercicio 11\n",
    "opciones_digito_1 = 9  \n",
    "opciones_digitos_2_y_3 = 10  \n",
    "opciones_letras = 23  \n",
    "\n",
    "total_combinaciones_numeros = opciones_digito_1 * opciones_digitos_2_y_3 * opciones_digitos_2_y_3\n",
    "\n",
    "total_combinaciones_letras = opciones_letras * opciones_letras * opciones_letras\n",
    "\n",
    "total_placas_posibles = total_combinaciones_numeros * total_combinaciones_letras\n",
    "print(\"El numero de placas diferentes son: \", total_placas_posibles)\n"
   ]
  },
  {
   "cell_type": "markdown",
   "id": "8ac48227",
   "metadata": {},
   "source": [
    "- b) ¿Cuántas placas diferentes terminan en vocal?"
   ]
  },
  {
   "cell_type": "markdown",
   "id": "3ed6bcc2",
   "metadata": {},
   "source": [
    "ya calculamos que para los primeros 3 digitos son 900 combinaciones, para calcular si terminan en vocal consideramos solo 3 vocales A, E y U entonces seria:\n",
    "\n",
    "**23 * 23 * 3 = 1587**\n",
    "\n",
    "**90 * 1587 = 1428300**"
   ]
  },
  {
   "cell_type": "code",
   "execution_count": 11,
   "id": "9e96646c",
   "metadata": {},
   "outputs": [
    {
     "name": "stdout",
     "output_type": "stream",
     "text": [
      "El numero de placas diferentes que terminen en vocal son:  1428300\n"
     ]
    }
   ],
   "source": [
    "#Implementacion de la solucion del inciso b) del ejercicio 11\n",
    "\n",
    "opciones_digito_1, opciones_digitos_2_y_3, opciones_letras, opciones_vocales = 9, 10, 23, 3   \n",
    "\n",
    "total_combinaciones_numeros = opciones_digito_1 * opciones_digitos_2_y_3 * opciones_digitos_2_y_3\n",
    "\n",
    "total_combinaciones_letras_vocal = opciones_letras * opciones_letras * opciones_vocales\n",
    "\n",
    "total_placas_posibles_vocal = total_combinaciones_numeros * total_combinaciones_letras_vocal\n",
    "\n",
    "print(\"El numero de placas diferentes que terminen en vocal son: \", total_placas_posibles_vocal)\n",
    "\n"
   ]
  },
  {
   "cell_type": "markdown",
   "id": "4b2d8d87",
   "metadata": {},
   "source": [
    "- c) ¿Cuál es la probabilidad de que una placa, elegida al azar, sea impar?"
   ]
  },
  {
   "cell_type": "markdown",
   "id": "8d048258",
   "metadata": {},
   "source": [
    "Para este inciso consideramos que el primer digito puede ser cualquiera del 1 al 9, para el segundo digito puede ser cualquiera del 0 al 9 y para el tercer digito hay 5 opciones \n",
    "considerando que los numeros impares son : 1, 3, 5, 7, y 9 entonces quedaria así\n",
    "\n",
    "**9 * 10 * 5 = 450**\n",
    "\n",
    "Ya calculamos que hay 12167 para las letras entonces multiplicamos para saber cual es el total de placas diferentes con números impares\n",
    "\n",
    "**450 * 12167 = 5475150**\n",
    "\n",
    "Y para la probabilidad dividimos:\n",
    "\n",
    "$$\n",
    "\\begin{align}\n",
    "     PROBABILIAD &= \\dfrac{5475150}{10950300} = 0.5\n",
    "     \n",
    "\\end{align}\n",
    "$$\n"
   ]
  },
  {
   "cell_type": "markdown",
   "id": "2c3e9879",
   "metadata": {},
   "source": []
  },
  {
   "cell_type": "code",
   "execution_count": 13,
   "id": "32d27f67",
   "metadata": {},
   "outputs": [
    {
     "data": {
      "text/plain": [
       "0.5"
      ]
     },
     "execution_count": 13,
     "metadata": {},
     "output_type": "execute_result"
    }
   ],
   "source": [
    "#Implementacion de la solucion del inciso c) del ejercicio 11\n",
    "\n",
    "opciones_digito_1 = 9  \n",
    "opciones_digitos_2_y_3 = 10  \n",
    "opciones_letras = 23  \n",
    "opciones_digitos_impares = 5  \n",
    "\n",
    "total_combinaciones_numeros_impares = opciones_digito_1 * opciones_digitos_2_y_3 * opciones_digitos_impares\n",
    "total_combinaciones_letras = opciones_letras * opciones_letras * opciones_letras\n",
    "total_placas_posibles_impares = total_combinaciones_numeros_impares * total_combinaciones_letras\n",
    "total_placas_posibles = opciones_digito_1 * opciones_digitos_2_y_3 * opciones_digitos_2_y_3 * total_combinaciones_letras\n",
    "probabilidad_placa_impar = total_placas_posibles_impares / total_placas_posibles\n",
    "\n",
    "probabilidad_placa_impar \n"
   ]
  },
  {
   "cell_type": "markdown",
   "id": "1fde75e4",
   "metadata": {},
   "source": [
    "#### 12. Servicios restauranteros. Una cadena de hamburguesas anuncia que se ofrecen 512 maneras de pedir una hamburguesa. Un cliente puede elegir cualquiera de estos ingredientes: cátsup, mostaza, mayonesa, aderezo de la casa, cebolla, pepinillos, jitomate, tocino y lechuga. ¿Crees que lo que afirma la empresa sea cierto? Justifica tu respuesta."
   ]
  },
  {
   "cell_type": "markdown",
   "id": "84f6b027",
   "metadata": {},
   "source": [
    "Yo creo que es cierto porque hay 2 opciones, poner o no poner y hay 9 ingredientes entonces seria:\n",
    "\n",
    "$$\n",
    "\\begin{align}\n",
    "     2^9 = 512\n",
    "\\end{align}\n",
    "$$\n",
    "\n"
   ]
  },
  {
   "cell_type": "code",
   "execution_count": 15,
   "id": "d20c6cd4",
   "metadata": {},
   "outputs": [
    {
     "name": "stdout",
     "output_type": "stream",
     "text": [
      "El numero de hamburguesas son: 512\n"
     ]
    }
   ],
   "source": [
    "#Implementacion de la solucion del ejercicio 12\n",
    "\n",
    "n = 9\n",
    "combinaciones_posibles = 2 ** n\n",
    "\n",
    "print(\"El numero de hamburguesas son:\", combinaciones_posibles)\n"
   ]
  },
  {
   "cell_type": "markdown",
   "id": "3ee31132",
   "metadata": {},
   "source": [
    "#### 13. Cultura. Una persona tiene un libro de cada uno de los autores siguientes: Mario Vargas Llosa, Alberto Ruy Sánchez, Gabriel García Márquez, Günther Grass, Patrick Süskind, Heinrich Böll, Arturo Pérez-Reverte y Camilo José Cela. Como aún no los ha leído, quiere ponerlos en una repisa cerca de su cama. De acuerdo con esto, determina:"
   ]
  },
  {
   "cell_type": "markdown",
   "id": "63641121",
   "metadata": {},
   "source": [
    "- a) ¿De cuántas formas puede acomodar los libros sobre la repisa?"
   ]
  },
  {
   "cell_type": "markdown",
   "id": "4f3c6108",
   "metadata": {},
   "source": [
    "Para este inciso ocuparemos el factorial y como hay 8 libros diferentes se representa de la siguiente forma: \n",
    "$$\n",
    "\\begin{align}\n",
    "     8! = 40320\n",
    "\\end{align}\n",
    "$$\n",
    "Entonces hay 40,320 formas de acomodar los libros en la repisa"
   ]
  },
  {
   "cell_type": "code",
   "execution_count": 16,
   "id": "28a633ff",
   "metadata": {},
   "outputs": [
    {
     "name": "stdout",
     "output_type": "stream",
     "text": [
      "El número de formas en que se pueden acomodar los libros es: 40320\n"
     ]
    }
   ],
   "source": [
    "#Implementacion de la solucion del inciso a) del ejercicio 13\n",
    "\n",
    "num_libros = 8\n",
    "formas = math.factorial(num_libros)\n",
    "\n",
    "print(f\"El número de formas en que se pueden acomodar los libros es: {formas}\")\n"
   ]
  },
  {
   "cell_type": "markdown",
   "id": "f1cc8134",
   "metadata": {},
   "source": [
    "- b) ¿De cuántas maneras puede ordenarlos si quiere que los libros de autores latinoamericanos\n",
    "estén juntos?"
   ]
  },
  {
   "cell_type": "markdown",
   "id": "245818de",
   "metadata": {},
   "source": [
    "determinamos que hay 6 bloques, uno de los autores latinoamericanos y los otros 5 bloques son los autores restastes\n",
    "Primero calculamos las formas de ordenar estos 6 bloques:\n",
    "$$\n",
    "\\begin{align}\n",
    "     6! = 720\\\\\\ \n",
    "\\end{align}\n",
    "$$\n",
    "Luego, dentro del bloque de autores latinoamericanos, los 3 libros pueden ordenarse de:\n",
    "$$\n",
    "\\begin{align}\n",
    "     3! = 6\\\\\\ \n",
    "\\end{align}\n",
    "$$\n",
    "Multiplicamos estas dos cantidades para obtener el total de maneras:\n",
    "**720 * 6 = 4320**\n",
    "\n",
    "Entonces hay 4,320 formas de ordenar los libros si los de autores latinoamericanos deben estar juntos.\n",
    "\n",
    "\n"
   ]
  },
  {
   "cell_type": "code",
   "execution_count": 22,
   "id": "c465643d",
   "metadata": {},
   "outputs": [
    {
     "name": "stdout",
     "output_type": "stream",
     "text": [
      "Formas de ordenar con los latinoamericanos juntos: 4320\n"
     ]
    }
   ],
   "source": [
    "\n",
    "total_autores, latinoamericanos= 8, 3\n",
    "\n",
    "bloques = total_autores - latinoamericanos + 1\n",
    "formas_bloques = factorial(bloques)\n",
    "formas_latinoamericanos = factorial(latinoamericanos)\n",
    "total_formas_b = formas_bloques * formas_latinoamericanos\n",
    "\n",
    "print(f'Formas de ordenar con los latinoamericanos juntos: {total_formas_b}')"
   ]
  },
  {
   "cell_type": "markdown",
   "id": "01c6687f",
   "metadata": {},
   "source": [
    "- c) ¿De cuántas formas puede acomodarlos, si los autores latinoamericanos deben estar juntos,\n",
    "así como los autores alemanes y los españoles también?"
   ]
  },
  {
   "cell_type": "markdown",
   "id": "39bf615b",
   "metadata": {},
   "source": [
    "Hay 3 formas de ordenar cada bloque y hay 3 autores latinoamericanos, 3 alemanes y 2 españoles, entonces seria: \n",
    "\n",
    "Formas para ordenar bloques:\n",
    "$$\n",
    "\\begin{align}\n",
    "     3! = 6\\\\\\ \n",
    "\\end{align}\n",
    "$$\n",
    "Factorial de cada bloque de los autores\n",
    "$$\n",
    "\\begin{align}\n",
    "     3! = 6\\\\\\\n",
    "     3! = 6\\\\\\\n",
    "     2! = 2\\\\\\\n",
    "     6 * 6 * 6 * 2 = 432\n",
    "\\end{align}\n",
    "$$"
   ]
  },
  {
   "cell_type": "code",
   "execution_count": 19,
   "id": "40ba6797",
   "metadata": {},
   "outputs": [
    {
     "name": "stdout",
     "output_type": "stream",
     "text": [
      "El número de formas de acomodar los libros es: 432\n"
     ]
    }
   ],
   "source": [
    "#Implementacion de la solucion del inciso c) del ejercicio 13\n",
    "\n",
    "latinoamericanos, alemanes, españoles = 3, 3, 2\n",
    "\n",
    "bloques = factorial(3)\n",
    "\n",
    "orden_latinoamericanos = factorial(latinoamericanos)\n",
    "orden_alemanes = factorial(alemanes)\n",
    "orden_españoles = factorial(españoles)\n",
    "\n",
    "total_formas = bloques * orden_latinoamericanos * orden_alemanes * orden_españoles\n",
    "\n",
    "print(f'El número de formas de acomodar los libros es: {total_formas}')"
   ]
  },
  {
   "cell_type": "markdown",
   "id": "142daa13",
   "metadata": {},
   "source": [
    "- d) Determina las probabilidades correspondientes a los incisos (b) y (c)."
   ]
  },
  {
   "cell_type": "markdown",
   "id": "b9b01880",
   "metadata": {},
   "source": [
    "Probabilidad del inciso b:\n",
    "\n",
    "$$\n",
    "\\begin{align}\n",
    "     PROBABILIAD_B &= \\dfrac{4320}{40320} = 0.1071\n",
    "     \n",
    "\\end{align}\n",
    "$$\n",
    "\n",
    "robabilidad del inciso c:\n",
    "\n",
    "$$\n",
    "\\begin{align}\n",
    "     PROBABILIAD_C &= \\dfrac{432}{40320} = 0.0107\n",
    "     \n",
    "\\end{align}\n",
    "$$\n",
    "\n"
   ]
  },
  {
   "cell_type": "code",
   "execution_count": 20,
   "id": "1d92a8ba",
   "metadata": {},
   "outputs": [
    {
     "name": "stdout",
     "output_type": "stream",
     "text": [
      "Probabilidad de que los latinoamericanos estén juntos: 0.10714285714285714\n",
      "Probabilidad de que latinoamericanos, alemanes y españoles estén juntos: 0.010714285714285714\n"
     ]
    }
   ],
   "source": [
    "#Implementacion de la solucion del inciso d) del ejercicio 13\n",
    "\n",
    "total_formas = factorial(8)\n",
    "\n",
    "# Formas de ordenar si los latinoamericanos están juntos\n",
    "bloques_con_latinoamericanos = factorial(6)\n",
    "orden_latinoamericanos = factorial(3)\n",
    "formas_b = bloques_con_latinoamericanos * orden_latinoamericanos\n",
    "\n",
    "# Formas de ordenar si latinoamericanos, alemanes y españoles están juntos\n",
    "bloques = factorial(3)\n",
    "orden_latinoamericanos = factorial(3)\n",
    "orden_alemanes = factorial(3)\n",
    "orden_españoles = factorial(2)\n",
    "formas_c = bloques * orden_latinoamericanos * orden_alemanes * orden_españoles\n",
    "\n",
    "# Probabilidades\n",
    "prob_b = formas_b / total_formas\n",
    "prob_c = formas_c / total_formas\n",
    "\n",
    "print(f'Probabilidad de que los latinoamericanos estén juntos: {prob_b}')\n",
    "print(f'Probabilidad de que latinoamericanos, alemanes y españoles estén juntos: {prob_c}')"
   ]
  },
  {
   "cell_type": "markdown",
   "id": "d1070684",
   "metadata": {},
   "source": [
    "#### 14. Finanzas. Se va a formar un portafolio de inversión de cuatro instrumentos financieros a partir de cinco de renta fija y seis de renta variable. ¿De cuántas maneras podría formarse el portafolio si:"
   ]
  },
  {
   "cell_type": "markdown",
   "id": "05fc9f57",
   "metadata": {},
   "source": [
    "- a) No hay restricciones?"
   ]
  },
  {
   "cell_type": "markdown",
   "id": "73370151",
   "metadata": {},
   "source": [
    "Utilizamos la formula de combinacion ya que hay un total de 11 y 4 elementos a elegir:  \n",
    "$$\n",
    "\\begin{align}\n",
    "     _nC_r &= \\dfrac{n!}{(n - r)!r!}\\\\\\\n",
    "     _11C_4 &= \\dfrac{11!}{(11 - 4)!4!}\\\\\\\n",
    "     _11C_4 &= \\dfrac{11!}{7!*4!} = \\dfrac{39916800}{120960}\\\\\\\n",
    "     _11C_4 &= 330\n",
    "\\end{align}\n",
    "$$\n",
    "\n",
    "Entonces hay 330 formas de elegir el portafolio de inversion con 4 elementos"
   ]
  },
  {
   "cell_type": "code",
   "execution_count": 25,
   "id": "5847c347",
   "metadata": {},
   "outputs": [
    {
     "name": "stdout",
     "output_type": "stream",
     "text": [
      "El número de maneras posibles de formar el portafolio es: 330\n"
     ]
    }
   ],
   "source": [
    "#Implementacion de la solucion del inciso a) del ejercicio 14\n",
    "n, k= 11, 4\n",
    "num_combinaciones = math.comb(n, k)\n",
    "\n",
    "print(f\"El número de maneras posibles de formar el portafolio es: {num_combinaciones}\")"
   ]
  },
  {
   "cell_type": "markdown",
   "id": "f51e5537",
   "metadata": {},
   "source": [
    "- b) Debe haber dos instrumentos de renta fija y dos de renta variable?"
   ]
  },
  {
   "cell_type": "markdown",
   "id": "1b1ec47f",
   "metadata": {},
   "source": [
    "En este caso utilizamos la combinacion de 5  de renta y 2 de renta fija asi como 6 de venta variable y 2 de denta variable \n",
    "\n",
    "Renta fija\n",
    "$$\n",
    "\\begin{align}\n",
    "     _nC_r &= \\dfrac{n!}{(n - r)!r!}\\\\\\\n",
    "     _5C_2 &= \\dfrac{5!}{(5 - 2)!2!}\\\\\\\n",
    "     _5C_2 &= \\dfrac{5!}{3!*2!} = \\dfrac{120}{12}\\\\\\\n",
    "     _5C_2 &= 10\n",
    "\\end{align}\n",
    "$$\n",
    "Renta variable\n",
    "$$\n",
    "\\begin{align}\n",
    "     _nC_r &= \\dfrac{n!}{(n - r)!r!}\\\\\\\n",
    "     _6C_2 &= \\dfrac{6!}{(6 - 2)!2!}\\\\\\\n",
    "     _6C_2 &= \\dfrac{6!}{4!*2!} = \\dfrac{720}{48}\\\\\\\n",
    "     _6C_2 &= 15\n",
    "\\end{align}\n",
    "$$\n",
    "Combinae las secciones \n",
    "\n",
    "**Total de maneras = 10 x 15 = 150**"
   ]
  },
  {
   "cell_type": "code",
   "execution_count": 27,
   "id": "149e856b",
   "metadata": {},
   "outputs": [
    {
     "name": "stdout",
     "output_type": "stream",
     "text": [
      "El número total de maneras de formar el portafolio es: 150\n"
     ]
    }
   ],
   "source": [
    "#Implementacion de la solucion del inciso b) del ejercicio 14\n",
    "from scipy.special import comb\n",
    "\n",
    "# Número de instrumentos disponibles\n",
    "num_renta_fija = 5\n",
    "num_renta_variable = 6\n",
    "\n",
    "# Seleccionar 2 instrumentos de renta fija y 2 de renta variable\n",
    "num_comb_renta_fija = comb(num_renta_fija, 2, exact=True)\n",
    "num_comb_renta_variable = comb(num_renta_variable, 2, exact=True)\n",
    "\n",
    "# Calcular el total de maneras de formar el portafolio\n",
    "total_maneras = num_comb_renta_fija * num_comb_renta_variable\n",
    "\n",
    "print(f\"El número total de maneras de formar el portafolio es: {total_maneras}\")\n"
   ]
  },
  {
   "cell_type": "markdown",
   "id": "8c10f1e2",
   "metadata": {},
   "source": [
    "- c) No debe haber ningún instrumento de renta fija?"
   ]
  },
  {
   "cell_type": "markdown",
   "id": "804fa5a0",
   "metadata": {},
   "source": [
    "Para este inciso se utiliza la formula de combinacion porque 6 son los elementos de renta variable y 4 son los elementos del portafolio\n",
    "$$\n",
    "\\begin{align}\n",
    "     _nC_r &= \\dfrac{n!}{(n - r)!r!}\\\\\\\n",
    "     _6C_4 &= \\dfrac{6!}{(6 - 4)!4!}\\\\\\\n",
    "     _6C_4 &= \\dfrac{6!}{2!*4!} = \\dfrac{720}{48}\\\\\\\n",
    "     _6C_4 &= 15\n",
    "\\end{align}\n",
    "$$\n",
    "Entonces hay 15 formas de hacer el portafolio sin ningun elemento de renta fija"
   ]
  },
  {
   "cell_type": "code",
   "execution_count": 31,
   "id": "d98a4597",
   "metadata": {},
   "outputs": [
    {
     "name": "stdout",
     "output_type": "stream",
     "text": [
      "El número de maneras de formar el portafolio es: 15\n"
     ]
    }
   ],
   "source": [
    "#Implementacion de la solucion del inciso c) del ejercicio 14\n",
    "from scipy.special import comb\n",
    "\n",
    "num_renta_variable, tamano_portafolio= 6, 4\n",
    "num_formas = comb(num_renta_variable, tamano_portafolio, exact=True)\n",
    "\n",
    "print(f\"El número de maneras de formar el portafolio es: {num_formas}\")\n"
   ]
  },
  {
   "cell_type": "markdown",
   "id": "5802fd56",
   "metadata": {},
   "source": [
    "- d) Debe haber tres instrumentos de renta fija?"
   ]
  },
  {
   "cell_type": "markdown",
   "id": "af91336f",
   "metadata": {},
   "source": [
    "Realizamos la combinacion de renta fija ya que solo podemos ocupar 3 elementos \n",
    "$$\n",
    "\\begin{align}\n",
    "     _nC_r &= \\dfrac{n!}{(n - r)!r!}\\\\\\\n",
    "     _5C_3 &= \\dfrac{5!}{(5 - 3)!3!}\\\\\\\n",
    "     _5C_3 &= \\dfrac{5!}{2!*3!} = \\dfrac{120}{12}\\\\\\\n",
    "     _5C_3 &= 10\n",
    "\\end{align}\n",
    "$$\n",
    "Ahora de renta variable ya que hay 6 elementos y solo podemos elegir uno porque el pprtafolio es de 4 elementos\n",
    "$$\n",
    "\\begin{align}\n",
    "     _nC_r &= \\dfrac{n!}{(n - r)!r!}\\\\\\\n",
    "     _6C_1 &= \\dfrac{6!}{(6 - 1)!1!}\\\\\\\n",
    "     _6C_1 &= \\dfrac{6!}{5!*1!} = \\dfrac{720}{120}\\\\\\\n",
    "     _6C_1 &= 6\n",
    "\\end{align}\n",
    "$$\n",
    "Ahora calculamos el total de maneras y mutilplicamos: \n",
    "\n",
    "**10 * 6 = 60**\n",
    "\n",
    "Entonces hay 60 maneras diferentes de formar el portafolio\n"
   ]
  },
  {
   "cell_type": "code",
   "execution_count": 32,
   "id": "be076d0a",
   "metadata": {},
   "outputs": [
    {
     "name": "stdout",
     "output_type": "stream",
     "text": [
      "Total de maneras de formar el portafolio: 60\n"
     ]
    }
   ],
   "source": [
    "#Implementacion de la solucion del inciso d) del ejercicio 14\n",
    "def combinations(n, k):\n",
    "    return math.factorial(n) // (math.factorial(k) * math.factorial(n - k))\n",
    "\n",
    "# Número de instrumentos disponibles\n",
    "num_renta_fija = 5\n",
    "num_renta_variable = 6\n",
    "\n",
    "# Seleccionar 3 instrumentos de renta fija\n",
    "num_renta_fija_seleccionados = 3\n",
    "combinaciones_renta_fija = combinations(num_renta_fija, num_renta_fija_seleccionados)\n",
    "\n",
    "# Seleccionar 1 instrumento de renta variable\n",
    "num_renta_variable_seleccionados = 1\n",
    "combinaciones_renta_variable = combinations(num_renta_variable, num_renta_variable_seleccionados)\n",
    "\n",
    "# Total de maneras de formar el portafolio\n",
    "total_formas = combinaciones_renta_fija * combinaciones_renta_variable\n",
    "\n",
    "print(f\"Total de maneras de formar el portafolio: {total_formas}\")\n"
   ]
  },
  {
   "cell_type": "markdown",
   "id": "691ec9d1",
   "metadata": {},
   "source": [
    "\n",
    "- e) Calcula las probabilidades para los incisos anteriores."
   ]
  },
  {
   "cell_type": "markdown",
   "id": "a3e64ced",
   "metadata": {},
   "source": [
    "$$\n",
    "\\begin{align}\n",
    "     Inciso_A &= \\dfrac{330}{330} = 1\\\\\\\n",
    "     Inciso_B &= \\dfrac{150}{330} = 0.4545\\\\\\\n",
    "     Inciso_c &= \\dfrac{150}{330} = 0.4545\\\\\\\n",
    "     Inciso_B &= \\dfrac{60}{330} = 0.1818\\\\\\\n",
    "     \n",
    "\\end{align}\n",
    "$$"
   ]
  },
  {
   "cell_type": "code",
   "execution_count": 34,
   "id": "92401479",
   "metadata": {},
   "outputs": [
    {
     "name": "stdout",
     "output_type": "stream",
     "text": [
      "a) Probabilidad: 1.0000\n",
      "b) Probabilidad: 0.4545\n",
      "c) Probabilidad: 0.0455\n",
      "d) Probabilidad: 0.1818\n"
     ]
    }
   ],
   "source": [
    "#Implementacion de la solucion del inciso e) del ejercicio 14\n",
    "from scipy.special import comb\n",
    "\n",
    "# Total de instrumentos disponibles\n",
    "total_instrumentos = 5 + 6\n",
    "\n",
    "# Total de combinaciones sin restricciones\n",
    "total_combinaciones = comb(total_instrumentos, 4, exact=True)\n",
    "\n",
    "# a) No hay restricciones\n",
    "total_comb_a = total_combinaciones\n",
    "prob_a = total_comb_a / total_combinaciones\n",
    "print(f\"a) Probabilidad: {prob_a:.4f}\")\n",
    "\n",
    "# b) Dos instrumentos de renta fija y dos de renta variable\n",
    "combinaciones_rf = comb(5, 2, exact=True)\n",
    "combinaciones_rv = comb(6, 2, exact=True)\n",
    "total_comb_b = combinaciones_rf * combinaciones_rv\n",
    "prob_b = total_comb_b / total_combinaciones\n",
    "print(f\"b) Probabilidad: {prob_b:.4f}\")\n",
    "\n",
    "# c) Ningún instrumento de renta fija\n",
    "combinaciones_solo_rv = comb(6, 4, exact=True)\n",
    "total_comb_c = combinaciones_solo_rv\n",
    "prob_c = total_comb_c / total_combinaciones\n",
    "print(f\"c) Probabilidad: {prob_c:.4f}\")\n",
    "\n",
    "# d) Tres instrumentos de renta fija\n",
    "combinaciones_3rf_1rv = comb(5, 3, exact=True) * comb(6, 1, exact=True)\n",
    "total_comb_d = combinaciones_3rf_1rv\n",
    "prob_d = total_comb_d / total_combinaciones\n",
    "print(f\"d) Probabilidad: {prob_d:.4f}\")\n",
    "\n"
   ]
  },
  {
   "cell_type": "markdown",
   "id": "bffc0cf2",
   "metadata": {},
   "source": [
    "#### 15. Futbol. Tres parejas (tres hombres y tres mujeres) compran boletos para ir a un partido de los Pumas. Cuando llegan al estadio de Ciudad Universitaria les surge la duda de cómo sentarse en la fila. ¿De cuántas maneras pueden hacerlo si:"
   ]
  },
  {
   "cell_type": "markdown",
   "id": "b16e6829",
   "metadata": {},
   "source": [
    "- a) No hay restricciones?"
   ]
  },
  {
   "cell_type": "markdown",
   "id": "24248667",
   "metadata": {},
   "source": []
  }
 ],
 "metadata": {
  "kernelspec": {
   "display_name": "Python 3 (ipykernel)",
   "language": "python",
   "name": "python3"
  },
  "language_info": {
   "codemirror_mode": {
    "name": "ipython",
    "version": 3
   },
   "file_extension": ".py",
   "mimetype": "text/x-python",
   "name": "python",
   "nbconvert_exporter": "python",
   "pygments_lexer": "ipython3",
   "version": "3.12.4"
  }
 },
 "nbformat": 4,
 "nbformat_minor": 5
}

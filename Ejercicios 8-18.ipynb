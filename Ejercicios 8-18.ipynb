{
 "cells": [
  {
   "cell_type": "markdown",
   "id": "5775b00c-5b5d-4592-a6fe-f72723073e8d",
   "metadata": {},
   "source": [
    "# Ejercicios "
   ]
  },
  {
   "cell_type": "markdown",
   "id": "2d2bcae2-1a06-4951-aa1f-0a73cfa743c3",
   "metadata": {},
   "source": [
    "- **Alumno: Adolfo martinez Acosta**\n",
    "- **Matricula: 22011221**\n",
    "- **Grupo: 4-A**"
   ]
  },
  {
   "cell_type": "code",
   "execution_count": 4,
   "id": "ef287028-3571-43ec-ba73-4cca954e2865",
   "metadata": {},
   "outputs": [],
   "source": [
    "import math"
   ]
  },
  {
   "cell_type": "markdown",
   "id": "e117c0e4-a1bf-46b7-a6f8-c36e9c8260bb",
   "metadata": {},
   "source": [
    "#### 8. Sólo para practicar. Se tienen los números 0, 3, 4, 6, 7 y 9. Si no se permiten repeticiones:"
   ]
  },
  {
   "cell_type": "markdown",
   "id": "dc08c66a-d12b-4d60-a1cf-459c8c0885ad",
   "metadata": {},
   "source": [
    "- a) ¿Cuántos números de tres dígitos se pueden formar?"
   ]
  },
  {
   "cell_type": "markdown",
   "id": "75c408f0-3f6c-4ae6-9fb5-344feb4db908",
   "metadata": {},
   "source": [
    "Dado que tenemos 6 numeros y se deben formar numeros de 3 digitos aplicamos formula de permutaciones: \n",
    "$$\n",
    "\\begin{align}\n",
    "     _nP_r &= \\dfrac{n!}{(n - r)!}\\\\\\\n",
    "     _6P_3 &= \\dfrac{6!}{(6 - 3)!}\\\\\\\n",
    "     _6P_3 &= \\dfrac{6!}{3!} = \\dfrac{720}{6}\\\\\\\n",
    "     _6P_3 &= 120\n",
    "\\end{align}\n",
    "$$\n",
    "\n",
    "por lo tanto se pueden formar **120** numeros de tres digitos."
   ]
  },
  {
   "cell_type": "code",
   "execution_count": 5,
   "id": "52212f1a-a6b6-4378-91b5-c8d94e260fdd",
   "metadata": {},
   "outputs": [
    {
     "name": "stdout",
     "output_type": "stream",
     "text": [
      "Hay 120 numeros de tres digitos usando: 0, 3, 4, 6, 7 y 9\n"
     ]
    }
   ],
   "source": [
    "#Implementacion de la solucion del inciso a) del ejercicio 8\n",
    "\n",
    "n, r = 6, 3\n",
    "numbers_of_3_digits = math.perm(n, r)\n",
    "print(f\"Hay {numbers_of_3_digits} numeros de tres digitos usando: 0, 3, 4, 6, 7 y 9\")"
   ]
  },
  {
   "cell_type": "markdown",
   "id": "33b2d360-9075-4c01-af30-57f9fb41942e",
   "metadata": {},
   "source": [
    "- b) ¿Cuántos de éstos son menores que 400?"
   ]
  },
  {
   "cell_type": "markdown",
   "id": "900b1d2c-0587-4dee-af0f-e4324382caf9",
   "metadata": {},
   "source": [
    "Los numeros proporcionados son: 0, 3, 4, 6, 7 y 9 por lo tanto todos aquellos numeros que comiencen con 0 o 3 son menores que 400, de esta forma los patrones de estos numeros son los siguientes: \n",
    "- **Patron 1**: 0 _ _  PARA ESTE CASO TENEMOS 2 ESPACIOS, EN EL PRIMERO TENEMOS 5 OPCIONES I.E 0, 3, 4, 6, 7 y 9 Y PARA EL SEGUNDO 4, POR QUE UTILIZANDO PERMUTACIONES PODEMOS PROCEDER COMO\n",
    "\n",
    "$$\n",
    "\\begin{align}\n",
    "     5 \\ cdot 4 = 20\n",
    "\\end{align}\n",
    "$$\n",
    "- **Patron 2**: 3 _ _, EN ESTE CASO RESOLVEMOS USANDO LA MISMA LOGICA ANTERIOR POR LO QUE TENEMOS\n",
    "\n",
    "$$\n",
    "\\begin{align}\n",
    "     5 \\ cdot 4 = 20\n",
    "\\end{align}\n",
    "$$\n",
    "\n",
    "Ahora solo sumamos los patrones para un total de **40 numeros de 3 digitos menores a 400**. "
   ]
  },
  {
   "cell_type": "code",
   "execution_count": 7,
   "id": "d45c9ed4-13f3-443a-8aef-1075e84d913c",
   "metadata": {},
   "outputs": [
    {
     "name": "stdout",
     "output_type": "stream",
     "text": [
      "Hay 40 numeros de tres digitos menores que 400\n"
     ]
    }
   ],
   "source": [
    "#Implementacion de la solucion del inciso b) del ejercicio 8\n",
    "\n",
    "print(f\"Hay {2*20} numeros de tres digitos menores que 400\")"
   ]
  },
  {
   "cell_type": "markdown",
   "id": "d702494b-fb47-4d45-a92b-2606a220de09",
   "metadata": {},
   "source": [
    "- c) ¿Cuántos son pares?"
   ]
  },
  {
   "cell_type": "markdown",
   "id": "b16f7355-1c73-4350-9797-708609eedc32",
   "metadata": {},
   "source": [
    "Los numeros proporcionados son: 0, 3, 4, 6, 7 y 9 por lo tanto todos\n",
    "aquellos numeros que terminen con 0, 4 y 6 son pares. Del inciso anterior\n",
    "nos podemos dar cuenta que para cada digito hay 20 permutaciones; es decir \n",
    "si se toma cualquiero de los 6 numeros el patron siempre es el mismo \n",
    "**X _ _**, donde X es cualquiera de estos 6 numeros. \n",
    "\n",
    "De esta observacion se puede concluir que el total de numeros pares es:\n",
    "$3 \\cdot 20 = 60$. **Hay 60 numeros pares de 3 digitos**."
   ]
  },
  {
   "cell_type": "code",
   "execution_count": 8,
   "id": "a86a0142-7632-4a52-afd2-2a05253b9b42",
   "metadata": {},
   "outputs": [
    {
     "name": "stdout",
     "output_type": "stream",
     "text": [
      "Hay 60 numeros pares de tres digitos\n"
     ]
    }
   ],
   "source": [
    "#Implementacion de la solucion del inciso c) del ejercicio 8\n",
    "\n",
    "print(f\"Hay {3*20} numeros pares de tres digitos\")"
   ]
  },
  {
   "cell_type": "markdown",
   "id": "71ebdbe2-1dcd-45bf-9ce6-f598c90e1aba",
   "metadata": {},
   "source": [
    "- d) ¿Cuántos son impares?"
   ]
  },
  {
   "cell_type": "markdown",
   "id": "fa7feb07-4a8e-4726-8f4f-8e9dd0728842",
   "metadata": {},
   "source": [
    "Los numeros proporcionados son: 0, 3, 4, 6, 7 y 9 por lo tanto todos\n",
    "aquellos numeros que terminen con 3, 7 y 9 son impares. Aplicando el mismo \n",
    "razonamiento del inciso anterior tenemos $3 \\cdot 20 = 60$. \n",
    "**Hay 60 numeros impares de 3 digitos**."
   ]
  },
  {
   "cell_type": "code",
   "execution_count": 9,
   "id": "ae546f66-3044-4fd4-a0fa-c1cf0e85b7b9",
   "metadata": {},
   "outputs": [
    {
     "name": "stdout",
     "output_type": "stream",
     "text": [
      "Hay 40 numeros impares de tres digitos \n"
     ]
    }
   ],
   "source": [
    "#Implementacion de la solucion del inciso d) del ejercicio 8\n",
    "\n",
    "print(f\"Hay {2*20} numeros impares de tres digitos \")"
   ]
  },
  {
   "cell_type": "markdown",
   "id": "e59067b6-bca7-4239-9bd5-114efda573c3",
   "metadata": {},
   "source": [
    "- e) ¿Cuántos son múltiplos de 5?"
   ]
  },
  {
   "cell_type": "markdown",
   "id": "5ef0654e-5df8-4f1d-a5b4-648d33a740ee",
   "metadata": {},
   "source": [
    "Los numeros proporcionados son: 0, 3, 4, 6, 7 y 9 por lo tanto todos\n",
    "aquellos numeros que terminen en 0 son multiplos de 5. Emplenado el analisis\n",
    "del inciso **c) i.e. (X _ _)** tenemos:\n",
    "$1 \\cdot 20 = 20$. \n",
    "**Hay 20 numeros multiplos de 5  de 3 digitos**."
   ]
  },
  {
   "cell_type": "code",
   "execution_count": 10,
   "id": "e1c98ce9-8a39-43d2-a89f-384346f275c3",
   "metadata": {},
   "outputs": [
    {
     "name": "stdout",
     "output_type": "stream",
     "text": [
      "Hay 20 numeros multiplos de 5 de 3 digitos \n"
     ]
    }
   ],
   "source": [
    "#Implementacion de la solucion del inciso d) del ejercicio 8\n",
    "\n",
    "print(f\"Hay {20} numeros multiplos de 5 de 3 digitos \")"
   ]
  },
  {
   "cell_type": "markdown",
   "id": "582fc2de-0284-4da2-8d08-7f325288b6e5",
   "metadata": {},
   "source": [
    "#### 9. Sólo para practicar. Los números telefónicos en la ciudad de Cuernavaca, Morelos, constan de siete dígitos."
   ]
  },
  {
   "cell_type": "markdown",
   "id": "54eeb5cc-ef9f-42cb-9570-f166978f2468",
   "metadata": {},
   "source": [
    "- a) ¿Cuántas líneas telefónicas pueden crearse en esa ciudad? Recuerda que no pueden comenzar con cero."
   ]
  },
  {
   "cell_type": "markdown",
   "id": "910b312e-7899-411b-b6c5-8f9d70318fc6",
   "metadata": {},
   "source": [
    "Como el primer digito no puede ser 0 se puede ocupar del 1 al 9 y para los otros 6 digitos si se puede ocupar del 0 al 9\n",
    "\n",
    "$9 \\cdot 10^6 = 9,000,000$"
   ]
  },
  {
   "cell_type": "code",
   "execution_count": 15,
   "id": "a2bf3a43-0174-4f52-8052-778f1e773b19",
   "metadata": {},
   "outputs": [
    {
     "name": "stdout",
     "output_type": "stream",
     "text": [
      "Se pueden crear 9000000 lineas telefonicas en Cuernavaca\n"
     ]
    }
   ],
   "source": [
    "#Implementacion de la solucion del inciso a) del ejercicio 9\n",
    "\n",
    "Lineas = 9 * 10**6\n",
    "print(f\"Se pueden crear {Lineas} lineas telefonicas en Cuernavaca\")"
   ]
  },
  {
   "cell_type": "markdown",
   "id": "7b490475-7f18-417e-bf53-f731fce34433",
   "metadata": {},
   "source": [
    "- b) Si los tres primeros dígitos representan una zona de Cuernavaca, ¿cuántas líneas telefónicas\n",
    "pertenecen a la zona 326?"
   ]
  },
  {
   "cell_type": "markdown",
   "id": "9e59a974-7341-48b8-b336-453ce95741bf",
   "metadata": {},
   "source": [
    "Los primeros 3 digitos son 326 y los 4 digitos faltantes pueden ser entre el 0 y 9 entonces ocupamos la formula de permutaciones para saber el numero de convinaciones posibles con los 4 digitos.\n",
    "$$\n",
    "\\begin{align}\n",
    "     _nP_r &= \\dfrac{n!}{(n - r)!}\\\\\\\n",
    "     _7P_4 &= \\dfrac{7!}{(7 - 4)!}\\\\\\\n",
    "     _7P_4 &= \\dfrac{7!}{3!} = \\dfrac{5040}{6}\\\\\\\n",
    "     _7P_4 &= 840\n",
    "\\end{align}\n",
    "$$"
   ]
  },
  {
   "cell_type": "code",
   "execution_count": 20,
   "id": "fa9c1cb8-a46e-47ad-b094-0a8c6a2ee4e7",
   "metadata": {},
   "outputs": [
    {
     "name": "stdout",
     "output_type": "stream",
     "text": [
      "Hay 840 lineas telefonicas que pertenecen a la zona 326\n"
     ]
    }
   ],
   "source": [
    "#Implementacion de la solucion del inciso b) del ejercicio 9\n",
    "\n",
    "n, r = 7, 4\n",
    "numbers_of_3_digits = math.perm(n, r)\n",
    "print(f\"Hay {numbers_of_3_digits} lineas telefonicas que pertenecen a la zona 326\")"
   ]
  },
  {
   "cell_type": "markdown",
   "id": "013ebb42-b8f5-422c-b800-cbfb4332dc45",
   "metadata": {},
   "source": [
    "#### 10. Sólo para practicar. Se tiene la palabra MURCIÉLAGO. Si no se permiten repeticiones al usar las letras que la forman, determina:"
   ]
  },
  {
   "cell_type": "markdown",
   "id": "7bcdf304-f85a-4fbe-b046-3020472543ae",
   "metadata": {},
   "source": [
    "- a) El número de palabras que puedes crear."
   ]
  },
  {
   "cell_type": "markdown",
   "id": "646ab088-90b2-4428-9f6c-3845ec600e0d",
   "metadata": {},
   "source": [
    "\n",
    "$$\n",
    "\\begin{align}\n",
    "     _nC_r &= \\dfrac{n!}{(n - r)!r!}\\\\\\\n",
    "     _10C_10 &= \\dfrac{10!}{(10 - 10)!10!}\\\\\\\n",
    "     _10C_4 &= \\dfrac{10!}{3!} = \\dfrac{5040}{6}\\\\\\\n",
    "     _10C_4 &= 840\n",
    "\\end{align}\n",
    "$$"
   ]
  },
  {
   "cell_type": "code",
   "execution_count": null,
   "id": "e69c246b-72c3-4176-ac48-3618d68be706",
   "metadata": {},
   "outputs": [],
   "source": []
  }
 ],
 "metadata": {
  "kernelspec": {
   "display_name": "Python 3 (ipykernel)",
   "language": "python",
   "name": "python3"
  },
  "language_info": {
   "codemirror_mode": {
    "name": "ipython",
    "version": 3
   },
   "file_extension": ".py",
   "mimetype": "text/x-python",
   "name": "python",
   "nbconvert_exporter": "python",
   "pygments_lexer": "ipython3",
   "version": "3.11.4"
  }
 },
 "nbformat": 4,
 "nbformat_minor": 5
}
